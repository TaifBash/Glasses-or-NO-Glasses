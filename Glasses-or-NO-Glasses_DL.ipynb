{
 "cells": [
  {
   "attachments": {},
   "cell_type": "markdown",
   "id": "3a024ee4",
   "metadata": {},
   "source": [
    "# Glasses or NO Glasses"
   ]
  },
  {
   "attachments": {},
   "cell_type": "markdown",
   "id": "2e703597",
   "metadata": {},
   "source": [
    "## Deep learning model using CNN "
   ]
  },
  {
   "attachments": {},
   "cell_type": "markdown",
   "id": "9c973d1d",
   "metadata": {},
   "source": [
    "Import Libraries"
   ]
  },
  {
   "cell_type": "code",
   "execution_count": null,
   "id": "90535fa4",
   "metadata": {
    "execution": {
     "iopub.execute_input": "2023-05-31T15:50:50.221193Z",
     "iopub.status.busy": "2023-05-31T15:50:50.220523Z",
     "iopub.status.idle": "2023-05-31T15:50:59.378152Z",
     "shell.execute_reply": "2023-05-31T15:50:59.376862Z"
    },
    "papermill": {
     "duration": 9.183016,
     "end_time": "2023-05-31T15:50:59.381487",
     "exception": false,
     "start_time": "2023-05-31T15:50:50.198471",
     "status": "completed"
    },
    "tags": []
   },
   "outputs": [],
   "source": [
    "import tensorflow as tf\n",
    "from tensorflow.keras import layers\n",
    "from tensorflow.keras.preprocessing.image import ImageDataGenerator\n",
    "import pickle\n",
    "import pandas as pd"
   ]
  },
  {
   "cell_type": "code",
   "execution_count": 3,
   "id": "e8c231e8",
   "metadata": {
    "execution": {
     "iopub.execute_input": "2023-05-31T15:50:59.424225Z",
     "iopub.status.busy": "2023-05-31T15:50:59.423365Z",
     "iopub.status.idle": "2023-05-31T15:50:59.429491Z",
     "shell.execute_reply": "2023-05-31T15:50:59.428347Z"
    },
    "papermill": {
     "duration": 0.030027,
     "end_time": "2023-05-31T15:50:59.431860",
     "exception": false,
     "start_time": "2023-05-31T15:50:59.401833",
     "status": "completed"
    },
    "tags": []
   },
   "outputs": [],
   "source": [
    "import os \n",
    "os.mkdir(\"train\")"
   ]
  },
  {
   "attachments": {},
   "cell_type": "markdown",
   "id": "46c1a7b8",
   "metadata": {},
   "source": [
    "Open and Read data"
   ]
  },
  {
   "cell_type": "code",
   "execution_count": 4,
   "id": "c52ea2db",
   "metadata": {
    "execution": {
     "iopub.execute_input": "2023-05-31T15:50:59.473740Z",
     "iopub.status.busy": "2023-05-31T15:50:59.473324Z",
     "iopub.status.idle": "2023-05-31T15:50:59.503288Z",
     "shell.execute_reply": "2023-05-31T15:50:59.501882Z"
    },
    "papermill": {
     "duration": 0.054369,
     "end_time": "2023-05-31T15:50:59.506113",
     "exception": false,
     "start_time": "2023-05-31T15:50:59.451744",
     "status": "completed"
    },
    "tags": []
   },
   "outputs": [],
   "source": [
    "with open(\"../input/datacleaningglassesnoglasses/glasses.txt\", \"rb\") as fp:\n",
    "    glasses = pickle.load(fp)\n",
    "with open(\"../input/datacleaningglassesnoglasses/no_glasses.txt\", \"rb\") as fp: \n",
    "    no_glasses = pickle.load(fp)"
   ]
  },
  {
   "attachments": {},
   "cell_type": "markdown",
   "id": "7ccb1e35",
   "metadata": {},
   "source": [
    "## Data augmentation and preprocessing "
   ]
  },
  {
   "attachments": {},
   "cell_type": "markdown",
   "id": "7c014a94",
   "metadata": {},
   "source": [
    "Add label column \"glasses\" to know image has glass(1) or NO glasess (0)  "
   ]
  },
  {
   "cell_type": "code",
   "execution_count": 5,
   "id": "0187b5a5",
   "metadata": {
    "execution": {
     "iopub.execute_input": "2023-05-31T15:50:59.549990Z",
     "iopub.status.busy": "2023-05-31T15:50:59.549584Z",
     "iopub.status.idle": "2023-05-31T15:51:00.341325Z",
     "shell.execute_reply": "2023-05-31T15:51:00.340166Z"
    },
    "papermill": {
     "duration": 0.816614,
     "end_time": "2023-05-31T15:51:00.344065",
     "exception": false,
     "start_time": "2023-05-31T15:50:59.527451",
     "status": "completed"
    },
    "tags": []
   },
   "outputs": [
    {
     "name": "stderr",
     "output_type": "stream",
     "text": [
      "/tmp/ipykernel_20/3422577204.py:4: SettingWithCopyWarning: \n",
      "A value is trying to be set on a copy of a slice from a DataFrame.\n",
      "Try using .loc[row_indexer,col_indexer] = value instead\n",
      "\n",
      "See the caveats in the documentation: https://pandas.pydata.org/pandas-docs/stable/user_guide/indexing.html#returning-a-view-versus-a-copy\n",
      "  train_df['path'] = train_df['id'].apply(lambda x: directory+str(x)+'.png').tolist()\n"
     ]
    },
    {
     "data": {
      "text/html": [
       "<div>\n",
       "<style scoped>\n",
       "    .dataframe tbody tr th:only-of-type {\n",
       "        vertical-align: middle;\n",
       "    }\n",
       "\n",
       "    .dataframe tbody tr th {\n",
       "        vertical-align: top;\n",
       "    }\n",
       "\n",
       "    .dataframe thead th {\n",
       "        text-align: right;\n",
       "    }\n",
       "</style>\n",
       "<table border=\"1\" class=\"dataframe\">\n",
       "  <thead>\n",
       "    <tr style=\"text-align: right;\">\n",
       "      <th></th>\n",
       "      <th>id</th>\n",
       "      <th>path</th>\n",
       "      <th>glasses</th>\n",
       "    </tr>\n",
       "  </thead>\n",
       "  <tbody>\n",
       "    <tr>\n",
       "      <th>0</th>\n",
       "      <td>1</td>\n",
       "      <td>/kaggle/input/glasses-or-no-glasses/faces-spri...</td>\n",
       "      <td>0</td>\n",
       "    </tr>\n",
       "    <tr>\n",
       "      <th>1</th>\n",
       "      <td>2</td>\n",
       "      <td>/kaggle/input/glasses-or-no-glasses/faces-spri...</td>\n",
       "      <td>1</td>\n",
       "    </tr>\n",
       "    <tr>\n",
       "      <th>2</th>\n",
       "      <td>3</td>\n",
       "      <td>/kaggle/input/glasses-or-no-glasses/faces-spri...</td>\n",
       "      <td>1</td>\n",
       "    </tr>\n",
       "    <tr>\n",
       "      <th>3</th>\n",
       "      <td>4</td>\n",
       "      <td>/kaggle/input/glasses-or-no-glasses/faces-spri...</td>\n",
       "      <td>0</td>\n",
       "    </tr>\n",
       "    <tr>\n",
       "      <th>4</th>\n",
       "      <td>5</td>\n",
       "      <td>/kaggle/input/glasses-or-no-glasses/faces-spri...</td>\n",
       "      <td>0</td>\n",
       "    </tr>\n",
       "    <tr>\n",
       "      <th>...</th>\n",
       "      <td>...</td>\n",
       "      <td>...</td>\n",
       "      <td>...</td>\n",
       "    </tr>\n",
       "    <tr>\n",
       "      <th>4495</th>\n",
       "      <td>4496</td>\n",
       "      <td>/kaggle/input/glasses-or-no-glasses/faces-spri...</td>\n",
       "      <td>0</td>\n",
       "    </tr>\n",
       "    <tr>\n",
       "      <th>4496</th>\n",
       "      <td>4497</td>\n",
       "      <td>/kaggle/input/glasses-or-no-glasses/faces-spri...</td>\n",
       "      <td>0</td>\n",
       "    </tr>\n",
       "    <tr>\n",
       "      <th>4497</th>\n",
       "      <td>4498</td>\n",
       "      <td>/kaggle/input/glasses-or-no-glasses/faces-spri...</td>\n",
       "      <td>1</td>\n",
       "    </tr>\n",
       "    <tr>\n",
       "      <th>4498</th>\n",
       "      <td>4499</td>\n",
       "      <td>/kaggle/input/glasses-or-no-glasses/faces-spri...</td>\n",
       "      <td>1</td>\n",
       "    </tr>\n",
       "    <tr>\n",
       "      <th>4499</th>\n",
       "      <td>4500</td>\n",
       "      <td>/kaggle/input/glasses-or-no-glasses/faces-spri...</td>\n",
       "      <td>0</td>\n",
       "    </tr>\n",
       "  </tbody>\n",
       "</table>\n",
       "<p>4500 rows × 3 columns</p>\n",
       "</div>"
      ],
      "text/plain": [
       "        id                                               path  glasses\n",
       "0        1  /kaggle/input/glasses-or-no-glasses/faces-spri...        0\n",
       "1        2  /kaggle/input/glasses-or-no-glasses/faces-spri...        1\n",
       "2        3  /kaggle/input/glasses-or-no-glasses/faces-spri...        1\n",
       "3        4  /kaggle/input/glasses-or-no-glasses/faces-spri...        0\n",
       "4        5  /kaggle/input/glasses-or-no-glasses/faces-spri...        0\n",
       "...    ...                                                ...      ...\n",
       "4495  4496  /kaggle/input/glasses-or-no-glasses/faces-spri...        0\n",
       "4496  4497  /kaggle/input/glasses-or-no-glasses/faces-spri...        0\n",
       "4497  4498  /kaggle/input/glasses-or-no-glasses/faces-spri...        1\n",
       "4498  4499  /kaggle/input/glasses-or-no-glasses/faces-spri...        1\n",
       "4499  4500  /kaggle/input/glasses-or-no-glasses/faces-spri...        0\n",
       "\n",
       "[4500 rows x 3 columns]"
      ]
     },
     "metadata": {},
     "output_type": "display_data"
    }
   ],
   "source": [
    "train=pd.read_csv('/kaggle/input/glasses-or-no-glasses/train.csv')\n",
    "train_df=train[['id','glasses']]\n",
    "directory = '/kaggle/input/glasses-or-no-glasses/faces-spring-2020/faces-spring-2020/face-'\n",
    "train_df['path'] = train_df['id'].apply(lambda x: directory+str(x)+'.png').tolist()\n",
    "train_df=train_df[['id','path','glasses']]\n",
    "display(train_df)"
   ]
  },
  {
   "attachments": {},
   "cell_type": "markdown",
   "id": "a8cec349",
   "metadata": {},
   "source": [
    "Split"
   ]
  },
  {
   "cell_type": "code",
   "execution_count": 6,
   "id": "3c8c193f",
   "metadata": {
    "execution": {
     "iopub.execute_input": "2023-05-31T15:51:00.389279Z",
     "iopub.status.busy": "2023-05-31T15:51:00.388878Z",
     "iopub.status.idle": "2023-05-31T15:51:01.551046Z",
     "shell.execute_reply": "2023-05-31T15:51:01.549773Z"
    },
    "papermill": {
     "duration": 1.18756,
     "end_time": "2023-05-31T15:51:01.553651",
     "exception": false,
     "start_time": "2023-05-31T15:51:00.366091",
     "status": "completed"
    },
    "tags": []
   },
   "outputs": [],
   "source": [
    "from sklearn.model_selection import train_test_split\n",
    "\n",
    "train_df, test_df = train_test_split(train_df, test_size=0.2, stratify=train_df['glasses'])"
   ]
  },
  {
   "attachments": {},
   "cell_type": "markdown",
   "id": "2d75544c",
   "metadata": {},
   "source": [
    "Creating ImageDataGenerator\n",
    "\n"
   ]
  },
  {
   "cell_type": "code",
   "execution_count": 7,
   "id": "58800042",
   "metadata": {
    "execution": {
     "iopub.execute_input": "2023-05-31T15:51:01.600777Z",
     "iopub.status.busy": "2023-05-31T15:51:01.600388Z",
     "iopub.status.idle": "2023-05-31T15:51:04.433828Z",
     "shell.execute_reply": "2023-05-31T15:51:04.432601Z"
    },
    "papermill": {
     "duration": 2.860649,
     "end_time": "2023-05-31T15:51:04.436760",
     "exception": false,
     "start_time": "2023-05-31T15:51:01.576111",
     "status": "completed"
    },
    "tags": []
   },
   "outputs": [
    {
     "name": "stdout",
     "output_type": "stream",
     "text": [
      "Found 3600 validated image filenames belonging to 2 classes.\n",
      "Found 900 validated image filenames belonging to 2 classes.\n"
     ]
    }
   ],
   "source": [
    "train_datagen = ImageDataGenerator(rescale=1./255, shear_range=0.2, zoom_range=0.2, horizontal_flip=True)\n",
    "train_generator = train_datagen.flow_from_dataframe(dataframe=train_df.astype({'glasses': str}), directory='./', x_col='path', y_col='glasses', target_size=(64, 64), batch_size=32, class_mode='binary')\n",
    "test_datagen = ImageDataGenerator(rescale=1./255)\n",
    "test_generator = test_datagen.flow_from_dataframe(dataframe=test_df.astype({'glasses': str}), directory='./', x_col='path', y_col='glasses', target_size=(64, 64), batch_size=32, class_mode='binary')"
   ]
  },
  {
   "attachments": {},
   "cell_type": "markdown",
   "id": "d51a9ceb",
   "metadata": {},
   "source": [
    "## Convolutional Neural Networks (CNN) "
   ]
  },
  {
   "attachments": {},
   "cell_type": "markdown",
   "id": "279c9f5c",
   "metadata": {},
   "source": [
    "Building CNN and Adding Layers\n",
    "\n",
    "Our CNN is now composed of:\n",
    "- A convolutional layer\n",
    "- A max pooling layer\n",
    "- A Flattening Layer\n",
    "- A Output Layer\n"
   ]
  },
  {
   "cell_type": "code",
   "execution_count": 8,
   "id": "68e18c73",
   "metadata": {
    "execution": {
     "iopub.execute_input": "2023-05-31T15:51:04.484740Z",
     "iopub.status.busy": "2023-05-31T15:51:04.483524Z",
     "iopub.status.idle": "2023-05-31T15:51:04.781530Z",
     "shell.execute_reply": "2023-05-31T15:51:04.780409Z"
    },
    "papermill": {
     "duration": 0.325301,
     "end_time": "2023-05-31T15:51:04.784795",
     "exception": false,
     "start_time": "2023-05-31T15:51:04.459494",
     "status": "completed"
    },
    "tags": []
   },
   "outputs": [],
   "source": [
    "model = tf.keras.Sequential([\n",
    "  layers.Conv2D(32, (3, 3), activation='relu', input_shape=(64, 64, 3)),\n",
    "  layers.MaxPooling2D((2, 2)),\n",
    "  layers.Conv2D(64, (3, 3), activation='relu'),\n",
    "  layers.MaxPooling2D((2, 2)),\n",
    "  layers.Conv2D(128, (3, 3), activation='relu'),\n",
    "  layers.MaxPooling2D((2, 2)),\n",
    "  layers.Flatten(),\n",
    "  layers.Dense(128, activation='relu'),\n",
    "  layers.Dense(1, activation='sigmoid')\n",
    "])\n",
    "\n",
    "model.compile(loss='binary_crossentropy', optimizer='adam', metrics=['accuracy'])\n",
    "\n"
   ]
  },
  {
   "attachments": {},
   "cell_type": "markdown",
   "id": "32b4439c",
   "metadata": {},
   "source": [
    "Training CNN\n",
    "\n"
   ]
  },
  {
   "cell_type": "code",
   "execution_count": 9,
   "id": "f306d1f7",
   "metadata": {
    "execution": {
     "iopub.execute_input": "2023-05-31T15:51:04.832755Z",
     "iopub.status.busy": "2023-05-31T15:51:04.831619Z",
     "iopub.status.idle": "2023-05-31T16:35:13.451005Z",
     "shell.execute_reply": "2023-05-31T16:35:13.449763Z"
    },
    "papermill": {
     "duration": 2648.646194,
     "end_time": "2023-05-31T16:35:13.453457",
     "exception": false,
     "start_time": "2023-05-31T15:51:04.807263",
     "status": "completed"
    },
    "tags": []
   },
   "outputs": [
    {
     "name": "stdout",
     "output_type": "stream",
     "text": [
      "Epoch 1/10\n",
      "113/113 [==============================] - 332s 3s/step - loss: 0.4562 - accuracy: 0.7756 - val_loss: 0.3339 - val_accuracy: 0.8656\n",
      "Epoch 2/10\n",
      "113/113 [==============================] - 265s 2s/step - loss: 0.3448 - accuracy: 0.8597 - val_loss: 0.3218 - val_accuracy: 0.8622\n",
      "Epoch 3/10\n",
      "113/113 [==============================] - 227s 2s/step - loss: 0.3167 - accuracy: 0.8731 - val_loss: 0.3205 - val_accuracy: 0.8633\n",
      "Epoch 4/10\n",
      "113/113 [==============================] - 227s 2s/step - loss: 0.3068 - accuracy: 0.8783 - val_loss: 0.3260 - val_accuracy: 0.8644\n",
      "Epoch 5/10\n",
      "113/113 [==============================] - 225s 2s/step - loss: 0.2991 - accuracy: 0.8794 - val_loss: 0.3261 - val_accuracy: 0.8700\n",
      "Epoch 6/10\n",
      "113/113 [==============================] - 226s 2s/step - loss: 0.3038 - accuracy: 0.8803 - val_loss: 0.2973 - val_accuracy: 0.8700\n",
      "Epoch 7/10\n",
      "113/113 [==============================] - 225s 2s/step - loss: 0.2928 - accuracy: 0.8825 - val_loss: 0.3451 - val_accuracy: 0.8656\n",
      "Epoch 8/10\n",
      "113/113 [==============================] - 226s 2s/step - loss: 0.2808 - accuracy: 0.8889 - val_loss: 0.3305 - val_accuracy: 0.8700\n",
      "Epoch 9/10\n",
      "113/113 [==============================] - 226s 2s/step - loss: 0.2784 - accuracy: 0.8897 - val_loss: 0.3569 - val_accuracy: 0.8656\n",
      "Epoch 10/10\n",
      "113/113 [==============================] - 226s 2s/step - loss: 0.2732 - accuracy: 0.8883 - val_loss: 0.3088 - val_accuracy: 0.8711\n",
      "29/29 [==============================] - 43s 1s/step - loss: 0.3088 - accuracy: 0.8711\n",
      "Test accuracy: 0.8711110949516296\n"
     ]
    }
   ],
   "source": [
    "history = model.fit(train_generator, epochs=10, validation_data=test_generator)\n",
    "\n",
    "test_loss, test_acc = model.evaluate(test_generator)\n",
    "print('Test accuracy:', test_acc)"
   ]
  },
  {
   "attachments": {},
   "cell_type": "markdown",
   "id": "000b6bec",
   "metadata": {},
   "source": [
    "# Confusion Matrix"
   ]
  },
  {
   "cell_type": "code",
   "execution_count": 10,
   "id": "e9ba6a40",
   "metadata": {
    "execution": {
     "iopub.execute_input": "2023-05-31T16:35:13.709251Z",
     "iopub.status.busy": "2023-05-31T16:35:13.708875Z",
     "iopub.status.idle": "2023-05-31T16:36:37.310725Z",
     "shell.execute_reply": "2023-05-31T16:36:37.309615Z"
    },
    "papermill": {
     "duration": 83.862828,
     "end_time": "2023-05-31T16:36:37.442171",
     "exception": false,
     "start_time": "2023-05-31T16:35:13.579343",
     "status": "completed"
    },
    "tags": []
   },
   "outputs": [
    {
     "name": "stdout",
     "output_type": "stream",
     "text": [
      "29/29 [==============================] - 43s 1s/step\n",
      "Confusion matrix:\n",
      "[[150 179]\n",
      " [245 326]]\n"
     ]
    }
   ],
   "source": [
    "import numpy as np\n",
    "from sklearn.metrics import confusion_matrix\n",
    "\n",
    "Y_pred = model.predict(test_generator)\n",
    "Y_pred = np.where(Y_pred > 0.5, 1, 0)\n",
    "Y_true = test_generator.classes\n",
    "cm = confusion_matrix(Y_true, Y_pred)\n",
    "\n",
    "print(\"Confusion matrix:\")\n",
    "print(cm)"
   ]
  },
  {
   "attachments": {},
   "cell_type": "markdown",
   "id": "615ebb98",
   "metadata": {},
   "source": [
    "# Prediction \n",
    " on the input image using the trained model by calling "
   ]
  },
  {
   "cell_type": "code",
   "execution_count": 11,
   "id": "2cfea708",
   "metadata": {
    "execution": {
     "iopub.execute_input": "2023-05-31T16:36:37.703236Z",
     "iopub.status.busy": "2023-05-31T16:36:37.702823Z",
     "iopub.status.idle": "2023-05-31T16:36:39.399985Z",
     "shell.execute_reply": "2023-05-31T16:36:39.399048Z"
    },
    "papermill": {
     "duration": 1.83049,
     "end_time": "2023-05-31T16:36:39.402350",
     "exception": false,
     "start_time": "2023-05-31T16:36:37.571860",
     "status": "completed"
    },
    "tags": []
   },
   "outputs": [
    {
     "name": "stdout",
     "output_type": "stream",
     "text": [
      "1/1 [==============================] - 0s 122ms/step\n"
     ]
    },
    {
     "data": {
      "text/plain": [
       "array([[0.22012056],\n",
       "       [0.9993494 ],\n",
       "       [0.27224728],\n",
       "       [0.16515422],\n",
       "       [0.04335793],\n",
       "       [0.02027076],\n",
       "       [0.9266077 ],\n",
       "       [0.04940509],\n",
       "       [0.17521715],\n",
       "       [0.01237614],\n",
       "       [0.01087623],\n",
       "       [0.4804231 ],\n",
       "       [0.9989547 ],\n",
       "       [0.08368529],\n",
       "       [0.98888   ],\n",
       "       [0.97965693],\n",
       "       [0.9988873 ],\n",
       "       [0.26556107],\n",
       "       [0.99676156],\n",
       "       [0.02699829],\n",
       "       [0.986508  ],\n",
       "       [0.99567914],\n",
       "       [0.323874  ],\n",
       "       [0.99703324],\n",
       "       [0.78345263],\n",
       "       [0.9865925 ],\n",
       "       [0.04059003],\n",
       "       [0.02909669],\n",
       "       [0.99466825],\n",
       "       [0.9664565 ],\n",
       "       [0.03223161],\n",
       "       [0.99814594]], dtype=float32)"
      ]
     },
     "execution_count": 11,
     "metadata": {},
     "output_type": "execute_result"
    }
   ],
   "source": [
    "import matplotlib.pyplot as plt\n",
    "import matplotlib.image as mpimg\n",
    "\n",
    "img = test_generator[0][0]\n",
    "model.predict(img)"
   ]
  },
  {
   "attachments": {},
   "cell_type": "markdown",
   "id": "3538472d",
   "metadata": {},
   "source": [
    "# Display image has glasses or no "
   ]
  },
  {
   "cell_type": "code",
   "execution_count": 12,
   "id": "601bd69f",
   "metadata": {
    "execution": {
     "iopub.execute_input": "2023-05-31T16:36:39.671579Z",
     "iopub.status.busy": "2023-05-31T16:36:39.670426Z",
     "iopub.status.idle": "2023-05-31T16:36:41.473782Z",
     "shell.execute_reply": "2023-05-31T16:36:41.472673Z"
    },
    "papermill": {
     "duration": 1.937973,
     "end_time": "2023-05-31T16:36:41.476103",
     "exception": false,
     "start_time": "2023-05-31T16:36:39.538130",
     "status": "completed"
    },
    "tags": []
   },
   "outputs": [
    {
     "data": {
      "text/plain": [
       "<matplotlib.image.AxesImage at 0x7c8eb871b1f0>"
      ]
     },
     "execution_count": 12,
     "metadata": {},
     "output_type": "execute_result"
    },
    {
     "data": {
      "image/png": "[encoded data removed]",
      "text/plain": [
       "<Figure size 640x480 with 1 Axes>"
      ]
     },
     "metadata": {},
     "output_type": "display_data"
    }
   ],
   "source": [
    "plt.imshow(test_generator[0][0][0])"
   ]
  },
  {
   "cell_type": "code",
   "execution_count": 13,
   "id": "f8266b4a",
   "metadata": {
    "execution": {
     "iopub.execute_input": "2023-05-31T16:36:41.741029Z",
     "iopub.status.busy": "2023-05-31T16:36:41.740597Z",
     "iopub.status.idle": "2023-05-31T16:36:43.539381Z",
     "shell.execute_reply": "2023-05-31T16:36:43.538276Z"
    },
    "papermill": {
     "duration": 1.932635,
     "end_time": "2023-05-31T16:36:43.541716",
     "exception": false,
     "start_time": "2023-05-31T16:36:41.609081",
     "status": "completed"
    },
    "tags": []
   },
   "outputs": [
    {
     "data": {
      "text/plain": [
       "<matplotlib.image.AxesImage at 0x7c8eb9732e90>"
      ]
     },
     "execution_count": 13,
     "metadata": {},
     "output_type": "execute_result"
    },
    {
     "data": {
      "image/png": "[encoded data removed]",
      "text/plain": [
       "<Figure size 640x480 with 1 Axes>"
      ]
     },
     "metadata": {},
     "output_type": "display_data"
    }
   ],
   "source": [
    "plt.imshow(test_generator[0][0][6])"
   ]
  }
 ],
 "metadata": {
  "kernelspec": {
   "display_name": "Python 3",
   "language": "python",
   "name": "python3"
  },
  "language_info": {
   "codemirror_mode": {
    "name": "ipython",
    "version": 3
   },
   "file_extension": ".py",
   "mimetype": "text/x-python",
   "name": "python",
   "nbconvert_exporter": "python",
   "pygments_lexer": "ipython3",
   "version": "3.10.10"
  },
  "papermill": {
   "default_parameters": {},
   "duration": 2777.013405,
   "end_time": "2023-05-31T16:36:46.892223",
   "environment_variables": {},
   "exception": null,
   "input_path": "__notebook__.ipynb",
   "output_path": "__notebook__.ipynb",
   "parameters": {},
   "start_time": "2023-05-31T15:50:29.878818",
   "version": "2.4.0"
  }
 },
 "nbformat": 4,
 "nbformat_minor": 5
}
